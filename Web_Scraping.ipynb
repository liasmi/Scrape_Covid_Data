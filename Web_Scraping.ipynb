{
 "cells": [
  {
   "cell_type": "code",
   "execution_count": 12,
   "metadata": {},
   "outputs": [],
   "source": [
    "from selenium import webdriver\n",
    "from selenium.webdriver.chrome.options import Options\n",
    "from BeautifulSoup import BeautifulSoup\n",
    "import pandas as pd"
   ]
  },
  {
   "cell_type": "code",
   "execution_count": 20,
   "metadata": {},
   "outputs": [
    {
     "name": "stderr",
     "output_type": "stream",
     "text": [
      "C:\\Users\\ismail\\Anaconda2\\lib\\site-packages\\ipykernel_launcher.py:3: DeprecationWarning: use options instead of chrome_options\n",
      "  This is separate from the ipykernel package so we can avoid doing imports until\n"
     ]
    },
    {
     "name": "stdout",
     "output_type": "stream",
     "text": [
      "Page Title is : البوابة الرسمية لفيروس كورونا بالمغرب\n"
     ]
    }
   ],
   "source": [
    "options = Options()\n",
    "options.add_argument(\"start-maximized\")\n",
    "driver = webdriver.Chrome(chrome_options=options, executable_path=r'C:\\Users\\ismail\\Downloads\\chromedriver_win32\\chromedriver.exe')\n",
    "driver.get('http://www.covidmaroc.ma/pages/Accueil.aspx')\n",
    "print(\"Page Title is : %s\" %driver.title)"
   ]
  },
  {
   "cell_type": "code",
   "execution_count": 83,
   "metadata": {},
   "outputs": [
    {
     "name": "stdout",
     "output_type": "stream",
     "text": [
      "<p style=\"padding: 15px; font-family: tahoma; font-size: 20px;\">\n",
      "<font color=\"#1d603f\">​ 10H</font><span style=\"color: #1d603f;\">00​​&nbsp; 25-04-2020</span></p>\n"
     ]
    }
   ],
   "source": [
    "content = driver.page_source\n",
    "soup = BeautifulSoup(content)\n",
    "name=soup.find('div', attrs={'id':'WebPartWPQ1'})\n",
    "first_td = name.find('td')\n",
    "text = first_td.renderContents()\n",
    "trimmed_text = text.strip()\n",
    "print trimmed_text"
   ]
  },
  {
   "cell_type": "code",
   "execution_count": 69,
   "metadata": {},
   "outputs": [
    {
     "name": "stdout",
     "output_type": "stream",
     "text": [
      "10H00​​\n",
      "25-04-2020\n"
     ]
    }
   ],
   "source": [
    "p=first_td.find_all('p').text\n",
    "t=p.split()\n",
    "l=[]\n",
    "for i in t:\n",
    "    i = i.replace(\"&nbsp\", \"\")\n",
    "    i = i.replace(\";\", \"\")\n",
    "    l.append(i)\n",
    "del l[0]\n",
    "print l[0]\n",
    "print l[1]\n",
    "    \n",
    "    "
   ]
  },
  {
   "cell_type": "code",
   "execution_count": 135,
   "metadata": {},
   "outputs": [
    {
     "name": "stdout",
     "output_type": "stream",
     "text": [
      "​ 10H00​​ 25-04-2020\n",
      "498\n",
      "​159\n",
      "3889​\n",
      "20723\n"
     ]
    }
   ],
   "source": [
    "rows = name.findAll('td')\n",
    "l=[]\n",
    "for i in rows:\n",
    "    children=i.findChildren(\"p\" , recursive=True)\n",
    "    o=i.findChildren(\"span\", recursive=True)\n",
    "    for i in children:\n",
    "        i=i.text\n",
    "        i = i.replace(\"&nbsp\", \"\")\n",
    "        i = i.replace(\";\", \"\")\n",
    "        i = i.replace(\"u''\", \"\")\n",
    "        l.append(i)\n",
    "    for i in o:\n",
    "        i=i.text\n",
    "        l.append(i)\n",
    "        \n",
    "l = list(filter(None, l))\n",
    "del(l[1])\n",
    "del(l[1])\n",
    "for i in l:\n",
    "    print i\n",
    "\n",
    "            \n",
    "  \n",
    "    \n",
    "    \n",
    "    "
   ]
  },
  {
   "cell_type": "code",
   "execution_count": 183,
   "metadata": {},
   "outputs": [
    {
     "name": "stdout",
     "output_type": "stream",
     "text": [
      "78\n",
      "1040\n",
      "​403\n",
      "2​​​\n",
      "503\n",
      "22\n",
      "4​​​​\n",
      "818\n",
      "​175\n",
      "299\n",
      "50​\n",
      "495\n"
     ]
    }
   ],
   "source": [
    "Reg=soup.find('div', attrs={'id':'WebPartWPQ2'})\n",
    "Region = Reg.findAll('th')\n",
    "Cas=Reg.findAll('td')\n",
    "R=[]\n",
    "R1=[]\n",
    "C=[]\n",
    "for i in Region:\n",
    "    children=i.findChildren(\"h2\" , recursive=True)\n",
    "    p=i.findChildren(\"span\" , recursive=True)\n",
    "    for i in children:\n",
    "        i=i.text\n",
    "        i = i.replace(\"&nbsp\", \"\")\n",
    "        i = i.replace(\";\", \"\")\n",
    "        i = i.replace(\"u''\", \"\")\n",
    "        R.append(i)\n",
    "    for i in p:\n",
    "        i=i.text\n",
    "        i = i.replace(\"&nbsp\", \"\")\n",
    "        i = i.replace(\";\", \"\")\n",
    "        i = i.replace(\"u''\", \"\")\n",
    "        R1.append(i)\n",
    "        \n",
    "for i in Cas:\n",
    "    children=i.findChildren(\"h2\" , recursive=True)\n",
    "    for i in children:\n",
    "        i=i.text\n",
    "        i = i.replace(\"&nbsp\", \"\")\n",
    "        i = i.replace(\";\", \"\")\n",
    "        i = i.replace(\"u''\", \"\")\n",
    "        C.append(i)\n",
    "\n",
    "del(R1[0])\n",
    "del(R1[0])\n"
   ]
  },
  {
   "cell_type": "code",
   "execution_count": 184,
   "metadata": {},
   "outputs": [],
   "source": [
    "R.insert(2, R1[0]+R1[1])\n",
    "\n",
    "    \n",
    "\n",
    "    "
   ]
  },
  {
   "cell_type": "code",
   "execution_count": 188,
   "metadata": {},
   "outputs": [
    {
     "name": "stdout",
     "output_type": "stream",
     "text": [
      "                      Régions Cas_Confirmés\n",
      "0      Beni Mellal-Khénifra​​            78\n",
      "1                 Casa Settat          1040\n",
      "2             Daraa-tafilalet          ​403\n",
      "3        Dakhla-Oued Ed Dahab          2​​​\n",
      "4                  Fès meknes           503\n",
      "5           Guelmim Oued Noun            22\n",
      "6     Laâyoune-Sakia El Hamra         4​​​​\n",
      "7              Marrakech Safi           818\n",
      "8                    Oriental          ​175\n",
      "9          Rabat Salé Kenitra           299\n",
      "10                Souss-Massa           50​\n",
      "11  Tanger Tetouan Al Hoceima           495\n"
     ]
    }
   ],
   "source": [
    "import pandas as pd\n",
    "\n",
    "Covid_Reg = {'Régions': R,\n",
    "        'Cas_Confirmés':C\n",
    "        }\n",
    "\n",
    "df = pd.DataFrame(Covid_Reg, columns = ['Régions', 'Cas_Confirmés'])\n",
    "\n",
    "print (df)"
   ]
  },
  {
   "cell_type": "code",
   "execution_count": 195,
   "metadata": {},
   "outputs": [
    {
     "name": "stdout",
     "output_type": "stream",
     "text": [
      "          Jours_&_Heure Guéris Décès Cas_confirmés Cas_négatifs\n",
      "0  ​ 10H00​​ 25-04-2020    498  ​159         3889​        20723\n"
     ]
    }
   ],
   "source": [
    "Col=['Jours_&_Heure','Guéris','Décès','Cas_confirmés','Cas_négatifs']\n",
    "\n",
    "df1 = pd.DataFrame([l], columns = Col)\n",
    "print(df1)"
   ]
  },
  {
   "cell_type": "code",
   "execution_count": 272,
   "metadata": {},
   "outputs": [],
   "source": [
    "import datetime\n",
    "datetime.datetime.today()\n",
    "filename=\"C:\\Users\\ismail\\Desktop\\\\\" \n",
    "filename+='Covid19'+'_'+ datetime.datetime.today().strftime('%d-%m-%Y')+'.xlsx'\n",
    "\n"
   ]
  },
  {
   "cell_type": "code",
   "execution_count": 273,
   "metadata": {},
   "outputs": [
    {
     "data": {
      "text/plain": [
       "'C:\\\\Users\\\\ismail\\\\Desktop\\\\Covid19_26-04-2020.xlsx'"
      ]
     },
     "execution_count": 273,
     "metadata": {},
     "output_type": "execute_result"
    }
   ],
   "source": [
    "filename"
   ]
  },
  {
   "cell_type": "code",
   "execution_count": 274,
   "metadata": {},
   "outputs": [],
   "source": [
    "import sys\n",
    "reload(sys)\n",
    "sys.setdefaultencoding('utf8')\n",
    "writer = pd.ExcelWriter(filename, engine='xlsxwriter')"
   ]
  },
  {
   "cell_type": "code",
   "execution_count": 275,
   "metadata": {},
   "outputs": [],
   "source": [
    "df1.to_excel(writer, sheet_name='Covid_National',encoding = 'utf-8')"
   ]
  },
  {
   "cell_type": "code",
   "execution_count": 276,
   "metadata": {
    "collapsed": true
   },
   "outputs": [],
   "source": [
    "df.to_excel(writer, sheet_name='Covid_par_Régions',encoding = 'utf-8')"
   ]
  },
  {
   "cell_type": "code",
   "execution_count": 277,
   "metadata": {},
   "outputs": [],
   "source": [
    "writer.save()"
   ]
  },
  {
   "cell_type": "code",
   "execution_count": null,
   "metadata": {
    "collapsed": true
   },
   "outputs": [],
   "source": []
  }
 ],
 "metadata": {
  "kernelspec": {
   "display_name": "Python 2",
   "language": "python",
   "name": "python2"
  },
  "language_info": {
   "codemirror_mode": {
    "name": "ipython",
    "version": 2
   },
   "file_extension": ".py",
   "mimetype": "text/x-python",
   "name": "python",
   "nbconvert_exporter": "python",
   "pygments_lexer": "ipython2",
   "version": "2.7.14"
  }
 },
 "nbformat": 4,
 "nbformat_minor": 2
}
